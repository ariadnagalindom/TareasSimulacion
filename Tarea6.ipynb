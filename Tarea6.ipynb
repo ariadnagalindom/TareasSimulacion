{
 "cells": [
  {
   "cell_type": "markdown",
   "metadata": {},
   "source": [
    "<img style=\"float: left; margin: 30px 15px 15px 15px;\" src=\"https://pngimage.net/wp-content/uploads/2018/06/logo-iteso-png-5.png\" width=\"300\" height=\"500\" /> \n",
    "    \n",
    "    \n",
    "### <font color='navy'> Simulación de procesos financieros. \n",
    "\n",
    "**Nombres:** Ariadna Desirée Galindo Marín y Miguel de Jesus Aguirre Orozco.\n",
    "\n",
    "**Fecha:** 14 de octubre del 2020.\n",
    "\n",
    "**Expediente** : 718272 y 722961.\n",
    "**Profesor:** Oscar David Jaramillo Zuluaga.\n",
    "\n",
    "# Tarea 6: Clase 13\n",
    "    "
   ]
  },
  {
   "cell_type": "markdown",
   "metadata": {},
   "source": [
    "Enlace Github \n",
    "- https://github.com/miguelaguirre11/TareasSimulacion"
   ]
  },
  {
   "cell_type": "markdown",
   "metadata": {},
   "source": [
    ">1. Suponer que  𝑇  distribuye beta donde la media es  $\\mu_p$  y varianza  $\\sigma_p^2$  y responder cual es la probabilidad  $P(T\\leq d)$ .\n",
    "    For a generalized Beta distribution defined on the interval [a,b], you have the relations :\n",
    "    $$\\mu=\\frac{a\\beta+b\\alpha}{\\alpha+\\beta}, \\sigma^2=\\frac{\\alpha\\beta(b-a)^2}{(\\alpha+\\beta)^2(1+\\alpha+\\beta)}$$\n",
    "\n",
    "Ayuda: - Aprender a utlizar el solucionador de ecuaciones no lineales https://stackoverflow.com/questions/19843116/passing-arguments-to-fsolve\n",
    "\n",
    "Leer el help de la función beta del paquete estadístico para aprender a graficar funciones beta en un intervalo diferente a 0 y 1.\n",
    "    "
   ]
  },
  {
   "cell_type": "code",
   "execution_count": 2,
   "metadata": {},
   "outputs": [],
   "source": [
    "#importamos librerias necesarias\n",
    "import matplotlib.pyplot as plt\n",
    "import scipy.stats as st\n",
    "import matplotlib.pyplot as plt\n",
    "from scipy.optimize import fsolve\n",
    "import numpy as np\n",
    "from scipy.stats import beta,triang\n",
    "\n",
    "%matplotlib inline"
   ]
  },
  {
   "cell_type": "markdown",
   "metadata": {},
   "source": [
    "- Solucion Ariadna: "
   ]
  },
  {
   "cell_type": "code",
   "execution_count": 44,
   "metadata": {},
   "outputs": [
    {
     "name": "stdout",
     "output_type": "stream",
     "text": [
      "Alpha: 0.33996047291882353\n",
      "Beta: 0.4249505911485409\n",
      "Pb(T<=d)= 0.5357501319510599\n"
     ]
    },
    {
     "data": {
      "image/png": "[encoded data removed]",
      "text/plain": [
       "<Figure size 432x288 with 1 Axes>"
      ]
     },
     "metadata": {
      "needs_background": "light"
     },
     "output_type": "display_data"
    }
   ],
   "source": [
    "fig,ax=plt.subplots(1,1)\n",
    "#parámetros\n",
    "a=40 #optimista\n",
    "b=49 #pesimista\n",
    "\n",
    "mu=44\n",
    "sigma=np.sqrt(9)\n",
    "\n",
    "def f(i):\n",
    "    alpha,beta=i #incognitas\n",
    "    #introducimos las ecuaciones igualadas a cero\n",
    "    f1=((a*beta+b*alpha)/(alpha+beta))-mu \n",
    "    f2=((alpha*beta*(b-a)*2)/((alpha+beta)*2)*(1+alpha+beta))-sigma\n",
    "    return [f1,f2]\n",
    "#usamos fsolve para resolver las ecuaciones lineales \n",
    "alpha, beta = fsolve(f, [1, 1])\n",
    "print(f'Alpha: {alpha}\\nBeta: {beta}')\n",
    "#obtenemos la distribución\n",
    "d=45.35 #dentro del intervalo [a,b]\n",
    "P_beta = st.beta(alpha, beta, loc=mu, scale=sigma).cdf(d)\n",
    "print('Pb(T<=d)=',P_beta)\n",
    "#graficamos \n",
    "def plot_beta_dist(alpha, beta, mu, sigma):\n",
    "    x = np.linspace(st.beta.ppf(0.001, alpha, beta, loc=mu, scale=sigma),\n",
    "                    st.beta.ppf(0.999, alpha, beta, loc=mu, scale=sigma), \n",
    "                    100)\n",
    "    ax.plot(x, st.beta.pdf(x, alpha, beta, loc=mu, scale=sigma),'r-', alpha=0.6, label='beta pdf')\n",
    "    plt.legend()\n",
    "\n",
    "plot_beta_dist(alpha, beta, mu, sigma)"
   ]
  },
  {
   "cell_type": "markdown",
   "metadata": {},
   "source": [
    "- Solución Miguel:"
   ]
  },
  {
   "cell_type": "code",
   "execution_count": 8,
   "metadata": {},
   "outputs": [
    {
     "data": {
      "text/plain": [
       "(1.0, 1.0)"
      ]
     },
     "execution_count": 8,
     "metadata": {},
     "output_type": "execute_result"
    }
   ],
   "source": [
    "# Límites \n",
    "\n",
    "down = 40\n",
    "up = 49 \n",
    "\n",
    "# Estadísticas \n",
    "\n",
    "m = 44 \n",
    "sigma = np.sqrt(9)\n",
    "\n",
    "# Valor para calcular probabilidad\n",
    "p = 47\n",
    "\n",
    "#Función Griegas\n",
    "\n",
    "def griegas(g):\n",
    "    a = g[0]\n",
    "    b = g[1]\n",
    "\n",
    "    res = np.empty((2))\n",
    "    alpha = ((down * b + up * a) / (a + b)) - m\n",
    "    betha = ((a * b) * (up - down)**2) / (((a + b)**2) * (1 + a + b)) - sigma\n",
    "    return res\n",
    "\n",
    "\n",
    "greek = np.array([1,1])\n",
    "G = fsolve(griegas, greek)\n",
    "A = G[0]\n",
    "B = G[1]\n",
    "\n",
    "A, B"
   ]
  },
  {
   "cell_type": "code",
   "execution_count": null,
   "metadata": {},
   "outputs": [],
   "source": []
  },
  {
   "cell_type": "code",
   "execution_count": null,
   "metadata": {},
   "outputs": [],
   "source": []
  },
  {
   "cell_type": "markdown",
   "metadata": {},
   "source": [
    ">2. Suponer que $T$ distribuye triangular donde el valor mas probable es $\\mu_p$ el valor pesimista es $p=49$ y el valor optimista es $o=40$ y responder cual es la probabilidad $P(T\\leq d)$. Nuevamente aprender a graficar una función triangular en un intervalro [a,b], usando el help."
   ]
  },
  {
   "cell_type": "markdown",
   "metadata": {},
   "source": [
    "- Solución Ariadna:"
   ]
  },
  {
   "cell_type": "code",
   "execution_count": null,
   "metadata": {},
   "outputs": [],
   "source": []
  },
  {
   "cell_type": "code",
   "execution_count": null,
   "metadata": {},
   "outputs": [],
   "source": []
  },
  {
   "cell_type": "code",
   "execution_count": null,
   "metadata": {},
   "outputs": [],
   "source": []
  }
 ],
 "metadata": {
  "kernelspec": {
   "display_name": "Python 3",
   "language": "python",
   "name": "python3"
  },
  "language_info": {
   "codemirror_mode": {
    "name": "ipython",
    "version": 3
   },
   "file_extension": ".py",
   "mimetype": "text/x-python",
   "name": "python",
   "nbconvert_exporter": "python",
   "pygments_lexer": "ipython3",
   "version": "3.7.6"
  }
 },
 "nbformat": 4,
 "nbformat_minor": 4
}
