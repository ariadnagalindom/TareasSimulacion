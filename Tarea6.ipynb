{
 "cells": [
  {
   "cell_type": "markdown",
   "metadata": {},
   "source": [
    "<img style=\"float: left; margin: 30px 15px 15px 15px;\" src=\"https://pngimage.net/wp-content/uploads/2018/06/logo-iteso-png-5.png\" width=\"300\" height=\"500\" /> \n",
    "    \n",
    "    \n",
    "### <font color='navy'> Simulación de procesos financieros. \n",
    "\n",
    "**Nombres:** Ariadna Desirée Galindo Marín y Miguel de Jesus Aguirre Orozco.\n",
    "\n",
    "**Fecha:** 14 de octubre del 2020.\n",
    "\n",
    "**Expediente** : 718272 y 722961.\n",
    "**Profesor:** Oscar David Jaramillo Zuluaga.\n",
    "\n",
    "# Tarea 6: Clase 13\n",
    "    "
   ]
  },
  {
   "cell_type": "markdown",
   "metadata": {},
   "source": [
    "Enlace Github \n",
    "- https://github.com/miguelaguirre11/TareasSimulacion"
   ]
  },
  {
   "cell_type": "markdown",
   "metadata": {},
   "source": [
    ">1. Suponer que  𝑇  distribuye beta donde la media es  $\\mu_p$  y varianza  $\\sigma_p^2$  y responder cual es la probabilidad  $P(T\\leq d)$ .\n",
    "    For a generalized Beta distribution defined on the interval [a,b], you have the relations :\n",
    "    $$\\mu=\\frac{a\\beta+b\\alpha}{\\alpha+\\beta}, \\sigma^2=\\frac{\\alpha\\beta(b-a)^2}{(\\alpha+\\beta)^2(1+\\alpha+\\beta)}$$\n",
    "\n",
    "Ayuda: - Aprender a utlizar el solucionador de ecuaciones no lineales https://stackoverflow.com/questions/19843116/passing-arguments-to-fsolve\n",
    "\n",
    "Leer el help de la función beta del paquete estadístico para aprender a graficar funciones beta en un intervalo diferente a 0 y 1.\n",
    "    "
   ]
  },
  {
   "cell_type": "code",
   "execution_count": 1,
   "metadata": {},
   "outputs": [],
   "source": [
    "#importamos librerias necesarias\n",
    "import matplotlib.pyplot as plt\n",
    "import scipy.stats as st\n",
    "import matplotlib.pyplot as plt\n",
    "from scipy.optimize import fsolve\n",
    "import numpy as np\n",
    "from scipy.stats import beta,triang\n",
    "\n",
    "%matplotlib inline"
   ]
  },
  {
   "cell_type": "markdown",
   "metadata": {},
   "source": [
    "- Solucion Ariadna: "
   ]
  },
  {
   "cell_type": "code",
   "execution_count": 2,
   "metadata": {},
   "outputs": [
    {
     "name": "stdout",
     "output_type": "stream",
     "text": [
      "Alpha: 52.199999999494004\n",
      "Beta: 121.79999999957195\n",
      "Pb(T<=d)= 0.8318988889559991\n"
     ]
    },
    {
     "data": {
      "image/png": "[encoded data removed]",
      "text/plain": [
       "<Figure size 432x288 with 1 Axes>"
      ]
     },
     "metadata": {
      "needs_background": "light"
     },
     "output_type": "display_data"
    }
   ],
   "source": [
    "#parámetros\n",
    "a=50 #optimista\n",
    "b=100 #pesímista\n",
    "mu=65\n",
    "sigma=np.sqrt(9)\n",
    "#función para resolver las ecuaciones\n",
    "def f(z):\n",
    "    alpha, beta=z\n",
    "    f1 = ((a * beta + b * alpha)/(alpha + beta)) - mu\n",
    "    f2 = ((alpha*beta*(b - a)**2) / (((alpha + beta)**2)*(1 + alpha + beta))) - sigma\n",
    "    return [f1, f2]\n",
    "#resolvemos las ecuaciones\n",
    "alpha, beta = fsolve(f, [1, 1])\n",
    "print(f'Alpha: {alpha}\\nBeta: {beta}')\n",
    "#obtenemos la distribución y probabilidad\n",
    "d=66\n",
    "P_beta = st.beta(alpha, beta, loc=mu, scale=sigma).cdf(d)\n",
    "print('Pb(T<=d)=',P_beta)\n",
    "#graficamos\n",
    "fig, ax = plt.subplots(1, 1)\n",
    "def plot_dist_beta(alpha,beta,mu,sigma):\n",
    "    x=np.linspace(st.beta.ppf(0.001,alpha,beta,loc=mu,scale=sigma),\n",
    "                 st.beta.ppf(0.999,alpha,beta,loc=mu,scale=sigma),100)\n",
    "    ax.plot(x,st.beta.pdf(x,alpha,beta,loc=mu,scale=sigma),\n",
    "           'r-',alpha=0.6,label='beta pdf')\n",
    "    plt.legend()\n",
    "    \n",
    "plot_dist_beta(alpha,beta,mu,sigma)"
   ]
  },
  {
   "cell_type": "markdown",
   "metadata": {},
   "source": [
    "- Solución Miguel:"
   ]
  },
  {
   "cell_type": "code",
   "execution_count": 24,
   "metadata": {},
   "outputs": [
    {
     "name": "stdout",
     "output_type": "stream",
     "text": [
      "La Alpha es:  0.5432098765398357 , mientras que la Betha es:  0.6790123456890043  y P(T<=d) 76.77251926284654 %\n"
     ]
    }
   ],
   "source": [
    "# Límites \n",
    "\n",
    "down = 40\n",
    "up = 49 \n",
    "\n",
    "# Estadísticas \n",
    "\n",
    "m = 44 \n",
    "sigma = np.sqrt(9)\n",
    "\n",
    "# Valor para calcular probabilidad\n",
    "p = 47\n",
    "\n",
    "#Función Griegas\n",
    "\n",
    "def griegas(g):\n",
    "    a = g[0]\n",
    "    b = g[1]\n",
    "\n",
    "    alpha = ((down * b + up * a) / (a + b)) - m\n",
    "    betha = ((a * b) * (up - down)**2) / (((a + b)**2) * (1 + a + b)) - sigma**2\n",
    "    return np.array([alpha, betha])\n",
    "\n",
    "\n",
    "greek = np.array([1,1])\n",
    "G = fsolve(griegas, greek)\n",
    "A = G[0]\n",
    "B = G[1]\n",
    "\n",
    "\n",
    "prob = beta.cdf(p, A, B, scale = (up - down), loc = down)\n",
    "\n",
    "print('La Alpha es: ', A, ', mientras que la Betha es: ', B,' y P(T<=d)', prob * 100, '%')"
   ]
  },
  {
   "cell_type": "markdown",
   "metadata": {},
   "source": [
    ">2. Suponer que $T$ distribuye triangular donde el valor mas probable es $\\mu_p$ el valor pesimista es $p=49$ y el valor optimista es $o=40$ y responder cual es la probabilidad $P(T\\leq d)$. Nuevamente aprender a graficar una función triangular en un intervalro [a,b], usando el help."
   ]
  },
  {
   "cell_type": "markdown",
   "metadata": {},
   "source": [
    "- Solución Ariadna:"
   ]
  },
  {
   "cell_type": "code",
   "execution_count": 5,
   "metadata": {
    "scrolled": true
   },
   "outputs": [
    {
     "name": "stdout",
     "output_type": "stream",
     "text": [
      "Pt(T<=d)= 0.9111111111111111\n"
     ]
    },
    {
     "data": {
      "text/plain": [
       "[<matplotlib.lines.Line2D at 0x1a27e7863d0>]"
      ]
     },
     "execution_count": 5,
     "metadata": {},
     "output_type": "execute_result"
    },
    {
     "data": {
      "image/png": "[encoded data removed]",
      "text/plain": [
       "<Figure size 432x288 with 1 Axes>"
      ]
     },
     "metadata": {
      "needs_background": "light"
     },
     "output_type": "display_data"
    }
   ],
   "source": [
    "#parámetros\n",
    "p=49#pesimista \n",
    "o=40#optimista\n",
    "mu=44#moda\n",
    "i=(mu-o)/(p-o)\n",
    "d=47\n",
    "#graficamos\n",
    "fig, ax = plt.subplots(1, 1)\n",
    "loc=o # Izquierda\n",
    "scale=(p-o) # Derecha - Izquierda\n",
    "\n",
    "#distribución y probabilidad\n",
    "P_triang = st.triang(i, loc=loc, scale=scale).cdf(d)\n",
    "print('Pt(T<=d)=',P_triang)\n",
    "\n",
    "x = np.linspace(st.triang.ppf(0.001, i, loc=loc, scale=scale),\n",
    "                st.triang.ppf(0.999, i, loc=loc, scale=scale), \n",
    "                100)\n",
    "ax.plot(x, st.triang.pdf(x, i, loc=loc, scale=scale), \n",
    "        'c-', alpha=0.6, label='Triangular pdf')"
   ]
  },
  {
   "cell_type": "markdown",
   "metadata": {},
   "source": [
    "- Solución Miguel"
   ]
  },
  {
   "cell_type": "code",
   "execution_count": 33,
   "metadata": {},
   "outputs": [
    {
     "data": {
      "image/png": "[encoded data removed]",
      "text/plain": [
       "<Figure size 432x288 with 1 Axes>"
      ]
     },
     "metadata": {
      "needs_background": "light"
     },
     "output_type": "display_data"
    }
   ],
   "source": [
    "x = np.linspace(30,60, 100)\n",
    "c = 4 / 9\n",
    "\n",
    "plt.plot(x,st.triang.pdf(x, c, loc = down,scale = (up - down)),\n",
    "         'g-', label='Función Triangular')\n",
    "\n",
    "plt.legend(loc='best')\n",
    "plt.grid()\n",
    "plt.show()"
   ]
  },
  {
   "cell_type": "code",
   "execution_count": 37,
   "metadata": {},
   "outputs": [
    {
     "name": "stdout",
     "output_type": "stream",
     "text": [
      "P(T<=d) es:  91.11111111111111 %\n"
     ]
    }
   ],
   "source": [
    "prob2 = triang.cdf(p, c, loc = down, scale = (up - down))\n",
    "print('P(T<=d) es: ', prob2 * 100, '%')"
   ]
  }
 ],
 "metadata": {
  "kernelspec": {
   "display_name": "Python 3",
   "language": "python",
   "name": "python3"
  },
  "language_info": {
   "codemirror_mode": {
    "name": "ipython",
    "version": 3
   },
   "file_extension": ".py",
   "mimetype": "text/x-python",
   "name": "python",
   "nbconvert_exporter": "python",
   "pygments_lexer": "ipython3",
   "version": "3.7.6"
  }
 },
 "nbformat": 4,
 "nbformat_minor": 4
}
